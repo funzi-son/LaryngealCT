{
 "cells": [
  {
   "cell_type": "markdown",
   "id": "99590e27-aa9c-4e50-bdcc-b2cd42132f79",
   "metadata": {},
   "source": [
    "## Data Preparation for Laryngeal CT Imaging\n",
    "\n",
    "TODO: Write something to introduce the project"
   ]
  },
  {
   "cell_type": "markdown",
   "id": "32303a69-e712-4369-9bb9-d148ec5cc2b1",
   "metadata": {},
   "source": [
    "### STEP 0: Download TCIA Dataset\n",
    "\n",
    "TODO: Write something about how to download the TCIA dataset and place it in to the \"data\" folder"
   ]
  },
  {
   "cell_type": "markdown",
   "id": "caec97e8-35fc-4e3c-83be-efc86003b337",
   "metadata": {},
   "source": [
    "#### NOTE: Make sure you place the downloaded TCIA data folder into the \"data\" directory and rename it as \"tcia\""
   ]
  },
  {
   "cell_type": "markdown",
   "id": "d1dab854-0c74-4ce2-907e-eb0c106a63a0",
   "metadata": {},
   "source": [
    "### STEP 1: Install dependencies"
   ]
  },
  {
   "cell_type": "code",
   "execution_count": null,
   "id": "65131aa0-0f9c-4ba4-981d-c2a5ca3fc2f4",
   "metadata": {},
   "outputs": [],
   "source": [
    "!pip install SimpleITK pydicom pynrrd numpy "
   ]
  },
  {
   "cell_type": "markdown",
   "id": "e1124c98-6dff-4d20-affc-8f719562a7e5",
   "metadata": {},
   "source": [
    "### STEP 2: Set up"
   ]
  },
  {
   "cell_type": "code",
   "execution_count": null,
   "id": "d3cbb9fe-a1ea-465b-8062-77954858574c",
   "metadata": {},
   "outputs": [],
   "source": [
    "DATA_DIR   = \"./data\"                              # The data folder where all data and annotations are kept\n",
    "ANNO_DIR   = os.path.join(DATA_DIR,\"annotations\")  # Annotations folder\n",
    "IMG_LIST   = os.path.join(ANN_DIR,\"img_list.txt\")  # List of image names\n",
    "BOX3D_DIR  = os.path.join(ANNO_DIR,\"box3d\")        # Annotations of 3D bounding boxes\n",
    "LABEL_FILE = os.path.join(ANNO_DIR,\"labels.txt\")   # Label annotations                                                                                                 \n",
    "\n",
    "TCIA_DIR   = os.path.join(DATA_DIR,\"tcia\");        # TCIA\n",
    "\n",
    "TEMP       = os.path.join(DATA_DIR,\"temp\")\n",
    "NRRD_DIR   = os.path.join(DATA_DIR,\"cropped_nrrds\")"
   ]
  },
  {
   "cell_type": "markdown",
   "id": "61ae22b3-37ab-4aeb-b2fd-2f3bc94edca6",
   "metadata": {},
   "source": [
    "### STEP 3: Run the code"
   ]
  },
  {
   "cell_type": "code",
   "execution_count": null,
   "id": "7114adcd-81d1-48dd-8eef-c770d25565b4",
   "metadata": {},
   "outputs": [],
   "source": [
    "from dataprep import run\n",
    "run()"
   ]
  },
  {
   "cell_type": "markdown",
   "id": "826abe28-fcd4-45ef-956d-3fdec18d6bc0",
   "metadata": {},
   "source": [
    "### STEP 4: View Data"
   ]
  },
  {
   "cell_type": "code",
   "execution_count": null,
   "id": "0d77691e-3191-4ce6-a035-e1c92f113ea5",
   "metadata": {},
   "outputs": [],
   "source": [
    "img_name = \"\" # Select an image name\n",
    "show_slices(os.path.join(NRRD_DIR,img_name+\"_Cropped_Volume.nrrd\"))"
   ]
  },
  {
   "cell_type": "code",
   "execution_count": null,
   "id": "244d4e71-a996-4cb9-b5e5-2162975b7ae6",
   "metadata": {},
   "outputs": [],
   "source": []
  }
 ],
 "metadata": {
  "kernelspec": {
   "display_name": "Python 3.10 (tensorflow)",
   "language": "python",
   "name": "tensorflow"
  },
  "language_info": {
   "codemirror_mode": {
    "name": "ipython",
    "version": 3
   },
   "file_extension": ".py",
   "mimetype": "text/x-python",
   "name": "python",
   "nbconvert_exporter": "python",
   "pygments_lexer": "ipython3",
   "version": "3.10.12"
  }
 },
 "nbformat": 4,
 "nbformat_minor": 5
}
